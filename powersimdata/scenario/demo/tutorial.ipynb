{
 "cells": [
  {
   "cell_type": "markdown",
   "metadata": {},
   "source": [
    "# Scenario Object Tutorial\n",
    "---\n",
    "\n",
    "This is a quick tutorial to guide the user through the functionalities of the *Scenario* object. The object has several internal state. So far the **create**, **execute**, **analyze** and **delete** states have been implemented.  Only one argument is required to instantiate a *Scenario* object: the `descriptor` (type `str`) of the scenario, which can either be the scenario id or name. Depending on the descriptor passed, the *Scenario* object will take different state:\n",
    "* empty string --> **create** state;\n",
    "* valid scenario id or name --> **analyze** state is activated if the simulation has been successfully ran and the output data have been extracted. Otherwise the state will be set to **execute**.\n",
    "\n",
    "The architecture of the *Scenario* object is shown below.\n",
    "![Scenario Workflow](scenario.jpg)\n",
    "\n",
    "## Analyze State\n",
    "Let's see what happens when the scenario name or id passed as argument is not found in the scenario list file on the server."
   ]
  },
  {
   "cell_type": "code",
   "execution_count": null,
   "metadata": {},
   "outputs": [],
   "source": [
    "from powersimdata.scenario.scenario import Scenario"
   ]
  },
  {
   "cell_type": "code",
   "execution_count": null,
   "metadata": {
    "scrolled": false
   },
   "outputs": [],
   "source": [
    "scenario = Scenario('dummy')"
   ]
  },
  {
   "cell_type": "markdown",
   "metadata": {},
   "source": [
    "It prints the list of available scenarios. Note that the scenario **id** is unique while the scenario **name** is only unique for a given plan - interconnect combination. If there are multiple scenario sharing the same name in the scenario list file then the above summary will be returned and the user will be asked to provide the identification number in order to select a scenario.\n",
    "\n",
    "Let's now pick a scenario that exists."
   ]
  },
  {
   "cell_type": "code",
   "execution_count": null,
   "metadata": {},
   "outputs": [],
   "source": [
    "scenario = Scenario('3')"
   ]
  },
  {
   "cell_type": "markdown",
   "metadata": {},
   "source": [
    "This *Scenario* object is in the **analyze** state. Note that it is possible to switch state. The **delete** state is accessible."
   ]
  },
  {
   "cell_type": "code",
   "execution_count": null,
   "metadata": {},
   "outputs": [],
   "source": [
    "print(\"State name: %s\" % scenario.state.name)\n",
    "print(\"Allowed state: %s\" % scenario.state.allowed)"
   ]
  },
  {
   "cell_type": "markdown",
   "metadata": {},
   "source": [
    "The description of the scenario can easily be accessed."
   ]
  },
  {
   "cell_type": "code",
   "execution_count": null,
   "metadata": {},
   "outputs": [],
   "source": [
    "scenario.print_scenario_info()"
   ]
  },
  {
   "cell_type": "markdown",
   "metadata": {},
   "source": [
    "When a *Scenario* object is created, the change table and grid are automatically loaded. Changes found in the change table are applied to the grid. This means that the capacity of some generators and/or transmission lines will be scaled. The grid used for this scenario can be accessed as follows:"
   ]
  },
  {
   "cell_type": "code",
   "execution_count": null,
   "metadata": {},
   "outputs": [],
   "source": [
    "grid = scenario.state.get_grid()\n",
    "grid.plant.head(n=10)"
   ]
  },
  {
   "cell_type": "markdown",
   "metadata": {},
   "source": [
    "And the change table:"
   ]
  },
  {
   "cell_type": "code",
   "execution_count": null,
   "metadata": {},
   "outputs": [],
   "source": [
    "ct = scenario.state.get_ct()\n",
    "print(ct)"
   ]
  },
  {
   "cell_type": "markdown",
   "metadata": {},
   "source": [
    "One can sees that the capacity of solar and wind generators in load zones 203, 204, 205, 206 and 207 have been increased by 1.52 and 1.48, respectively. Also, the capacity of some transmission lines has bee increased by a factor 2. In this case the identification number of the branch has been used. The mapping load zone id to load zone name is accessible via the *Grid* object."
   ]
  },
  {
   "cell_type": "code",
   "execution_count": null,
   "metadata": {},
   "outputs": [],
   "source": [
    "grid.zone"
   ]
  },
  {
   "cell_type": "markdown",
   "metadata": {},
   "source": [
    "Those are the 16 load zones of the Western Interconnect. One can sees that only the solar and wind generators in California have been scaled. Let's take a look at the transmission lines in the change table:"
   ]
  },
  {
   "cell_type": "code",
   "execution_count": null,
   "metadata": {
    "scrolled": true
   },
   "outputs": [],
   "source": [
    "grid.branch.loc[ct['branch']['branch_id'].keys()]"
   ]
  },
  {
   "cell_type": "markdown",
   "metadata": {},
   "source": [
    "Where do these lines start and end?"
   ]
  },
  {
   "cell_type": "code",
   "execution_count": null,
   "metadata": {
    "scrolled": true
   },
   "outputs": [],
   "source": [
    "for line in ct['branch']['branch_id'].keys():\n",
    "    print(\"#%d: %s --> %s\" % (line, grid.branch.loc[line].from_zone_name, grid.branch.loc[line].to_zone_name))"
   ]
  },
  {
   "cell_type": "markdown",
   "metadata": {},
   "source": [
    "Input profiles and output data can be loaded as follows. If the file is not found locally, then it will be downloaded from the server."
   ]
  },
  {
   "cell_type": "code",
   "execution_count": null,
   "metadata": {},
   "outputs": [],
   "source": [
    "wind = scenario.state.get_wind()\n",
    "wind.head(n=10)"
   ]
  },
  {
   "cell_type": "markdown",
   "metadata": {},
   "source": [
    "Let's take a look at infeasibilities. These are period where demand were decreased by some amout in order to make the optimization problem solvable."
   ]
  },
  {
   "cell_type": "code",
   "execution_count": null,
   "metadata": {},
   "outputs": [],
   "source": [
    "scenario.state.print_infeasibilities()"
   ]
  },
  {
   "cell_type": "markdown",
   "metadata": {},
   "source": [
    "Below, we plot the original demand profile along with the reduced one for Washington State."
   ]
  },
  {
   "cell_type": "code",
   "execution_count": null,
   "metadata": {},
   "outputs": [],
   "source": [
    "import matplotlib.pyplot as plt\n",
    "\n",
    "zone = 201\n",
    "demand_original = scenario.state.get_demand()\n",
    "demand_modified = scenario.state.get_demand(original=False)\n",
    "\n",
    "fig = plt.figure(figsize=(15, 8))\n",
    "plt.title(\"%s Demand Profile\" % grid.zone[201], fontsize=25)\n",
    "ax = fig.gca()\n",
    "ax.grid(color='black', axis='y')\n",
    "ax.tick_params(which='both', labelsize=20)\n",
    "ax = demand_original[zone].rename('original').resample('D').sum().plot(ax=ax, color='red', legend=True, lw=3)\n",
    "ax = demand_modified[zone].rename('modified').resample('D').sum().plot(ax=ax, color='blue', legend=True, lw=3)\n",
    "handles, labels = ax.get_legend_handles_labels()\n",
    "ax.legend(handles[::-1], labels[::-1], frameon=2, prop={'size': 18})\n",
    "ax.set_xlabel('')\n",
    "ax.set_ylabel('Load (MWh)', fontsize=22)\n",
    "plt.show()\n",
    "\n",
    "print(\"Original demand: %d (MWh)\" % demand_original[201].sum())\n",
    "print(\"Reduced demand: %d (MWh)\" % demand_modified[zone].sum())"
   ]
  },
  {
   "cell_type": "markdown",
   "metadata": {},
   "source": [
    "## Create State\n",
    "Let's create a scenario now!"
   ]
  },
  {
   "cell_type": "code",
   "execution_count": null,
   "metadata": {},
   "outputs": [],
   "source": [
    "new_scenario = Scenario('')\n",
    "print(\"State name: %s\" % new_scenario.state.name)\n",
    "print(\"Allowed state: %s\" % new_scenario.state.allowed)"
   ]
  },
  {
   "cell_type": "code",
   "execution_count": null,
   "metadata": {},
   "outputs": [],
   "source": [
    "new_scenario.print_scenario_info()"
   ]
  },
  {
   "cell_type": "markdown",
   "metadata": {},
   "source": [
    "To create a scenario, one needs to set the interconnect, the plan / name, start date / end date / interval, base_demand, base_hydro, base_solar and base_wind profiles version and, optionally, scale the capacity of generators and/or transmission lines. Let's do so."
   ]
  },
  {
   "cell_type": "code",
   "execution_count": null,
   "metadata": {},
   "outputs": [],
   "source": [
    "new_scenario.state.set_builder(['Western'])"
   ]
  },
  {
   "cell_type": "markdown",
   "metadata": {},
   "source": [
    "The Western interconnect is loaded and the already existing plans for the Western interconnect are given. Also, a list of the available profiles for the chosen interconnect is printed. Let's name our scenario."
   ]
  },
  {
   "cell_type": "code",
   "execution_count": null,
   "metadata": {},
   "outputs": [],
   "source": [
    "new_scenario.state.builder.set_name('ca2045', 'ca2020')"
   ]
  },
  {
   "cell_type": "markdown",
   "metadata": {},
   "source": [
    "Oops, we can't do that. Let's pick a different name for our new scenario. Also, let's set the start date, end date and interval. Note that the interval size must satisfy the following condition: end date - start date (in hours) % interval (in hours) = 0"
   ]
  },
  {
   "cell_type": "code",
   "execution_count": null,
   "metadata": {},
   "outputs": [],
   "source": [
    "new_scenario.state.builder.set_name('test', 'dummy')\n",
    "new_scenario.state.builder.set_time('2016-08-01 00:00:00', '2016-08-31 23:00:00', '124H') "
   ]
  },
  {
   "cell_type": "markdown",
   "metadata": {},
   "source": [
    "Is that time to create the scenario?"
   ]
  },
  {
   "cell_type": "code",
   "execution_count": null,
   "metadata": {},
   "outputs": [],
   "source": [
    "new_scenario.state.create_scenario()"
   ]
  },
  {
   "cell_type": "markdown",
   "metadata": {},
   "source": [
    "Nope. We still need to set the base profiles and eventually a change table."
   ]
  },
  {
   "cell_type": "code",
   "execution_count": null,
   "metadata": {},
   "outputs": [],
   "source": [
    "new_scenario.state.builder.set_base_profile('demand', 'v3')\n",
    "new_scenario.state.builder.set_base_profile('hydro', 'v1')\n",
    "new_scenario.state.builder.set_base_profile('solar', 'v2')\n",
    "new_scenario.state.builder.set_base_profile('wind', 'v1')"
   ]
  },
  {
   "cell_type": "markdown",
   "metadata": {},
   "source": [
    "And increase the capacity of wind farms in Wisconsin."
   ]
  },
  {
   "cell_type": "code",
   "execution_count": null,
   "metadata": {},
   "outputs": [],
   "source": [
    "new_scenario.state.builder.change_table.scale_plant_capacity('wind', {'Winsconsin': 5})"
   ]
  },
  {
   "cell_type": "markdown",
   "metadata": {},
   "source": [
    "Right, Wisconsin is not part of the Western interconnect."
   ]
  },
  {
   "cell_type": "code",
   "execution_count": null,
   "metadata": {},
   "outputs": [],
   "source": [
    "# scale capacity of solar plants in WA and AZ by 5 and 2.5, respectively\n",
    "scenario.state.builder.change_table.scale_plant_capacity('solar',\n",
    "                                                         zone={'Washington': 5,\n",
    "                                                               'Arizona': 2.5})\n",
    "# scale capacity of wind farms in OR and MT by 1.5 and 2, respectively\n",
    "scenario.state.builder.change_table.scale_plant_capacity('wind',\n",
    "                                                         zone={'Oregon': 1.5,\n",
    "                                                               'Montana': 2})\n",
    "# scale capacity of solar plants in NV and WY by 2\n",
    "scenario.state.builder.change_table.scale_branch_capacity(zone={'Nevada': 2,\n",
    "                                                                'Wyoming': 2})\n",
    "print(scenario.state.builder.change_table.ct)  # print change table"
   ]
  },
  {
   "cell_type": "markdown",
   "metadata": {},
   "source": [
    "Let's create the scenario now."
   ]
  },
  {
   "cell_type": "code",
   "execution_count": null,
   "metadata": {},
   "outputs": [],
   "source": [
    "new_scenario.state.create_scenario()"
   ]
  },
  {
   "cell_type": "code",
   "execution_count": null,
   "metadata": {},
   "outputs": [],
   "source": [
    "print(\"State name: %s\" % scenario.state.name)\n",
    "print(\"Allowed state: %s\" % scenario.state.allowed)"
   ]
  },
  {
   "cell_type": "code",
   "execution_count": null,
   "metadata": {},
   "outputs": [],
   "source": []
  }
 ],
 "metadata": {
  "kernelspec": {
   "display_name": "v1",
   "language": "python",
   "name": "v1"
  },
  "language_info": {
   "codemirror_mode": {
    "name": "ipython",
    "version": 3
   },
   "file_extension": ".py",
   "mimetype": "text/x-python",
   "name": "python",
   "nbconvert_exporter": "python",
   "pygments_lexer": "ipython3",
   "version": "3.6.5"
  }
 },
 "nbformat": 4,
 "nbformat_minor": 2
}

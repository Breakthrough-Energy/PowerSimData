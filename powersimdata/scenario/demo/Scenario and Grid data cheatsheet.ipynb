{
 "cells": [
  {
   "cell_type": "code",
   "execution_count": 1,
   "metadata": {},
   "outputs": [],
   "source": [
    "import pandas as pd\n",
    "\n",
    "from pprint import pprint\n",
    "from powersimdata.scenario.scenario import Scenario"
   ]
  },
  {
   "cell_type": "code",
   "execution_count": 40,
   "metadata": {},
   "outputs": [],
   "source": [
    "def classAttrs(obj, showContent=True):\n",
    "    if showContent:\n",
    "        return {attr: 'function' if callable(getattr(obj, attr)) else getattr(obj, attr) for attr in dir(obj) if not attr.startswith(\"__\")}\n",
    "    else:\n",
    "        return [attr for attr in dir(obj) if not attr.startswith(\"__\")]"
   ]
  },
  {
   "cell_type": "markdown",
   "metadata": {},
   "source": [
    "# Scenario Class"
   ]
  },
  {
   "cell_type": "code",
   "execution_count": 2,
   "metadata": {
    "scrolled": false
   },
   "outputs": [
    {
     "name": "stdout",
     "output_type": "stream",
     "text": [
      "SCENARIO: base | Western_2030_NoGoals\n",
      "\n",
      "--> State\n",
      "analyze\n",
      "--> Loading ct\n",
      "--> Loading Western interconnect\n",
      "Loading zone\n",
      "Loading sub\n",
      "Loading bus2sub\n",
      "Loading bus\n",
      "Loading plant\n",
      "Loading plant cost\n",
      "Loading branch\n",
      "Loading DC line\n"
     ]
    }
   ],
   "source": [
    "s = Scenario('195')"
   ]
  },
  {
   "cell_type": "code",
   "execution_count": 41,
   "metadata": {},
   "outputs": [
    {
     "name": "stdout",
     "output_type": "stream",
     "text": [
      "{'_set_info': 'function',\n",
      " '_set_status': 'function',\n",
      " 'change': 'function',\n",
      " 'info': OrderedDict([('id', '195'),\n",
      "                      ('plan', 'base'),\n",
      "                      ('name', 'Western_2030_NoGoals'),\n",
      "                      ('state', 'analyze'),\n",
      "                      ('interconnect', 'Western'),\n",
      "                      ('base_demand', 'v4'),\n",
      "                      ('base_hydro', 'v2'),\n",
      "                      ('base_solar', 'v2'),\n",
      "                      ('base_wind', 'v2'),\n",
      "                      ('change_table', 'Yes'),\n",
      "                      ('start_date', '2016-01-01 00:00:00'),\n",
      "                      ('end_date', '2016-12-31 23:00:00'),\n",
      "                      ('interval', '144H'),\n",
      "                      ('runtime', '4:55'),\n",
      "                      ('infeasibilities',\n",
      "                       '26:10_28:10_29:15_30:10_32:5_33:10_34:15_35:15_36:5_37:5_38:10_40:5')]),\n",
      " 'print_scenario_info': 'function',\n",
      " 'ssh': <paramiko.client.SSHClient object at 0x1307fbcd0>,\n",
      " 'state': <powersimdata.scenario.analyze.Analyze object at 0x10e482ad0>,\n",
      " 'status': 'extracted'}\n"
     ]
    }
   ],
   "source": [
    "pprint(classAttrs(s))"
   ]
  },
  {
   "cell_type": "markdown",
   "metadata": {},
   "source": [
    "# Grid Class"
   ]
  },
  {
   "cell_type": "code",
   "execution_count": null,
   "metadata": {},
   "outputs": [],
   "source": [
    "# General info:\n",
    "\n",
    "# Loadzone is always within a single interconnect\n",
    "# A state may have multiple loadzones, not all are in the same interconnect\n",
    "\n",
    "# Plant location is always the same as its busId"
   ]
  },
  {
   "cell_type": "code",
   "execution_count": 7,
   "metadata": {},
   "outputs": [],
   "source": [
    "grid = s.state.get_grid()"
   ]
  },
  {
   "cell_type": "code",
   "execution_count": 47,
   "metadata": {},
   "outputs": [
    {
     "name": "stdout",
     "output_type": "stream",
     "text": [
      "['_add_information',\n",
      " '_branch_aux',\n",
      " '_build_network',\n",
      " '_build_storage',\n",
      " '_plant_aux',\n",
      " '_read_branch',\n",
      " '_read_bus',\n",
      " '_read_bus2sub',\n",
      " '_read_dcline',\n",
      " '_read_gencost',\n",
      " '_read_network',\n",
      " '_read_plant',\n",
      " '_read_sub',\n",
      " '_read_zone',\n",
      " '_set_interconnect',\n",
      " 'branch',\n",
      " 'bus',\n",
      " 'bus2sub',\n",
      " 'data_loc',\n",
      " 'dcline',\n",
      " 'gencost',\n",
      " 'id2type',\n",
      " 'id2zone',\n",
      " 'interconnect',\n",
      " 'plant',\n",
      " 'storage',\n",
      " 'sub',\n",
      " 'type2color',\n",
      " 'type2id',\n",
      " 'zone2id']\n"
     ]
    }
   ],
   "source": [
    "pprint(classAttrs(grid, showContent=False))"
   ]
  },
  {
   "cell_type": "code",
   "execution_count": 68,
   "metadata": {
    "scrolled": false
   },
   "outputs": [
    {
     "name": "stdout",
     "output_type": "stream",
     "text": [
      "from_bus_id           int64  \n",
      "to_bus_id             int64  \n",
      "r                     float64\n",
      "x                     float64\n",
      "b                     float64\n",
      "rateA                 float64\n",
      "rateB                 int64  \n",
      "rateC                 int64  \n",
      "ratio                 float64\n",
      "angle                 float64\n",
      "status                int64  \n",
      "angmin                int64  \n",
      "angmax                int64  \n",
      "Pf                    float64\n",
      "Qf                    float64\n",
      "Pt                    float64\n",
      "Qt                    float64\n",
      "mu_Sf                 float64\n",
      "mu_St                 float64\n",
      "mu_angmin             float64\n",
      "mu_angmax             float64\n",
      "branch_device_type    object \n",
      "interconnect          object \n",
      "from_lat              float64\n",
      "from_lon              float64\n",
      "to_lat                float64\n",
      "to_lon                float64\n",
      "from_zone_id          int64  \n",
      "to_zone_id            int64  \n",
      "from_zone_name        object \n",
      "to_zone_name          object \n",
      "dtype: object\n"
     ]
    }
   ],
   "source": [
    "print(grid.branch.dtypes)\n",
    "# Branch capacity is RateA\n",
    "# if capacity is 0 the branch has effectively unlimited capacity and zero distance"
   ]
  },
  {
   "cell_type": "code",
   "execution_count": 69,
   "metadata": {
    "scrolled": true
   },
   "outputs": [
    {
     "name": "stdout",
     "output_type": "stream",
     "text": [
      "type            int64  \n",
      "Pd              float64\n",
      "Qd              float64\n",
      "Gs              int64  \n",
      "Bs              float64\n",
      "zone_id         int64  \n",
      "Vm              float64\n",
      "Va              float64\n",
      "baseKV          float64\n",
      "Vmax            float64\n",
      "Vmin            float64\n",
      "lam_P           float64\n",
      "lam_Q           float64\n",
      "mu_Vmax         float64\n",
      "mu_Vmin         float64\n",
      "interconnect    object \n",
      "lat             float64\n",
      "lon             float64\n",
      "dtype: object\n"
     ]
    }
   ],
   "source": [
    "print(grid.bus.dtypes) \n",
    "# bus gets lat lon from substation"
   ]
  },
  {
   "cell_type": "code",
   "execution_count": 65,
   "metadata": {},
   "outputs": [
    {
     "name": "stdout",
     "output_type": "stream",
     "text": [
      "from_bus_id          int64  \n",
      "to_bus_id            int64  \n",
      "status               int64  \n",
      "Pf                   int64  \n",
      "Pt                   float64\n",
      "Qf                   float64\n",
      "Qt                   float64\n",
      "Vf                   float64\n",
      "Vt                   float64\n",
      "Pmin                 int64  \n",
      "Pmax                 int64  \n",
      "QminF                float64\n",
      "QmaxF                float64\n",
      "QminT                float64\n",
      "QmaxT                float64\n",
      "loss0                int64  \n",
      "loss1                int64  \n",
      "muPmin               float64\n",
      "muPmax               float64\n",
      "muQminF              float64\n",
      "muQmaxF              float64\n",
      "muQminT              float64\n",
      "muQmaxT              float64\n",
      "from_interconnect    object \n",
      "to_interconnect      object \n",
      "dtype: object\n"
     ]
    }
   ],
   "source": [
    "# DC line = high voltage, long distance, direct current power lines\n",
    "print(grid.dcline.dtypes) "
   ]
  },
  {
   "cell_type": "code",
   "execution_count": 70,
   "metadata": {},
   "outputs": [
    {
     "name": "stdout",
     "output_type": "stream",
     "text": [
      "type            int64  \n",
      "startup         int64  \n",
      "shutdown        int64  \n",
      "n               int64  \n",
      "c2              float64\n",
      "c1              float64\n",
      "c0              float64\n",
      "interconnect    object \n",
      "dtype: object\n"
     ]
    }
   ],
   "source": [
    "print(grid.gencost.dtypes)"
   ]
  },
  {
   "cell_type": "code",
   "execution_count": 64,
   "metadata": {},
   "outputs": [
    {
     "name": "stdout",
     "output_type": "stream",
     "text": [
      "bus_id          int64  \n",
      "Pg              float64\n",
      "Qg              float64\n",
      "Qmax            float64\n",
      "Qmin            float64\n",
      "Vg              float64\n",
      "mBase           float64\n",
      "status          int64  \n",
      "Pmax            float64\n",
      "Pmin            float64\n",
      "Pc1             int64  \n",
      "Pc2             int64  \n",
      "Qc1min          int64  \n",
      "Qc1max          int64  \n",
      "Qc2min          int64  \n",
      "Qc2max          int64  \n",
      "ramp_agc        int64  \n",
      "ramp_10         int64  \n",
      "ramp_30         int64  \n",
      "ramp_q          int64  \n",
      "apf             float64\n",
      "mu_Pmax         float64\n",
      "mu_Pmin         float64\n",
      "mu_Qmax         float64\n",
      "mu_Qmin         float64\n",
      "GenMWMax        float64\n",
      "GenMWMin        float64\n",
      "GenFuelCost     float64\n",
      "GenIOB          float64\n",
      "GenIOC          float64\n",
      "GenIOD          float64\n",
      "type            object \n",
      "interconnect    object \n",
      "lat             float64\n",
      "lon             float64\n",
      "zone_id         int64  \n",
      "zone_name       object \n",
      "dtype: object\n"
     ]
    }
   ],
   "source": [
    "print(grid.plant.dtypes)\n",
    "# NOTE: Pmax is plant capacity"
   ]
  },
  {
   "cell_type": "code",
   "execution_count": 73,
   "metadata": {},
   "outputs": [
    {
     "name": "stdout",
     "output_type": "stream",
     "text": [
      "{'InEff': 0.9,\n",
      " 'OutEff': 0.9,\n",
      " 'StorageData': Empty DataFrame\n",
      "Columns: [UnitIdx, InitialStorage, InitialStorageLowerBound, InitialStorageUpperBound, InitialStorageCost, TerminalStoragePrice, MinStorageLevel, MaxStorageLevel, OutEff, InEff, LossFactor, rho]\n",
      "Index: [],\n",
      " 'duration': 4,\n",
      " 'energy_price': 20,\n",
      " 'gen': Empty DataFrame\n",
      "Columns: [bus_id, Pg, Qg, Qmax, Qmin, Vg, mBase, status, Pmax, Pmin, Pc1, Pc2, Qc1min, Qc1max, Qc2min, Qc2max, ramp_agc, ramp_10, ramp_30, ramp_q, apf]\n",
      "Index: []\n",
      "\n",
      "[0 rows x 21 columns],\n",
      " 'gencost': Empty DataFrame\n",
      "Columns: [type, startup, shutdown, n, c2, c1, c0]\n",
      "Index: [],\n",
      " 'genfuel': [],\n",
      " 'max_stor': 0.95,\n",
      " 'min_stor': 0.05}\n"
     ]
    }
   ],
   "source": [
    "pprint(grid.storage)\n",
    "# Most scenarios do not have storage data"
   ]
  },
  {
   "cell_type": "code",
   "execution_count": 74,
   "metadata": {},
   "outputs": [
    {
     "name": "stdout",
     "output_type": "stream",
     "text": [
      "                 name  interconnect_sub_id        lat         lon interconnect\n",
      "sub_id                                                                        \n",
      "35000   NEAH BAY       10000                48.241400 -124.577777  Western    \n",
      "35001   FORKS          10001                47.695555 -124.183645  Western    \n",
      "35002   OCEAN SHORES   10002                47.040041 -124.056969  Western    \n",
      "35003   WESTPORT       10003                46.927528 -124.171950  Western    \n",
      "35004   LONG BEACH 1   10004                46.316481 -124.061190  Western    \n",
      "...          ...         ...                      ...         ...      ...    \n",
      "39757   FORT HANCOCK   80042                31.400937 -105.974373  Western    \n",
      "39758   SIERRA BLANCA  80043                31.270907 -105.233641  Western    \n",
      "39759   EL PASO 36     80044                31.756900 -106.375000  Western    \n",
      "39760   EL PASO 37     80045                31.983587 -106.431777  Western    \n",
      "39761   EL PASO 38     80046                31.978333 -106.427500  Western    \n",
      "\n",
      "[4762 rows x 5 columns]\n"
     ]
    }
   ],
   "source": [
    "print(grid.sub)"
   ]
  },
  {
   "cell_type": "markdown",
   "metadata": {},
   "source": [
    "# Scenario.state - Analyze class"
   ]
  },
  {
   "cell_type": "code",
   "execution_count": 42,
   "metadata": {},
   "outputs": [
    {
     "name": "stdout",
     "output_type": "stream",
     "text": [
      "{'_enter': 'function',\n",
      " '_leave': 'function',\n",
      " '_parse_infeasibilities': 'function',\n",
      " '_scenario_info': OrderedDict([('id', '195'),\n",
      "                                ('plan', 'base'),\n",
      "                                ('name', 'Western_2030_NoGoals'),\n",
      "                                ('state', 'analyze'),\n",
      "                                ('interconnect', 'Western'),\n",
      "                                ('base_demand', 'v4'),\n",
      "                                ('base_hydro', 'v2'),\n",
      "                                ('base_solar', 'v2'),\n",
      "                                ('base_wind', 'v2'),\n",
      "                                ('change_table', 'Yes'),\n",
      "                                ('start_date', '2016-01-01 00:00:00'),\n",
      "                                ('end_date', '2016-12-31 23:00:00'),\n",
      "                                ('interval', '144H'),\n",
      "                                ('runtime', '4:55'),\n",
      "                                ('infeasibilities',\n",
      "                                 '26:10_28:10_29:15_30:10_32:5_33:10_34:15_35:15_36:5_37:5_38:10_40:5')]),\n",
      " '_ssh': <paramiko.client.SSHClient object at 0x1307fbcd0>,\n",
      " 'allowed': ['delete'],\n",
      " 'get_congl': 'function',\n",
      " 'get_congu': 'function',\n",
      " 'get_ct': 'function',\n",
      " 'get_dcline_pf': 'function',\n",
      " 'get_demand': 'function',\n",
      " 'get_grid': 'function',\n",
      " 'get_hydro': 'function',\n",
      " 'get_lmp': 'function',\n",
      " 'get_pf': 'function',\n",
      " 'get_pg': 'function',\n",
      " 'get_solar': 'function',\n",
      " 'get_storage_e': 'function',\n",
      " 'get_storage_pg': 'function',\n",
      " 'get_wind': 'function',\n",
      " 'name': 'analyze',\n",
      " 'print_infeasibilities': 'function',\n",
      " 'print_scenario_info': 'function',\n",
      " 'scaler': <powersimdata.input.scaler.Scaler object at 0x130af0e50>,\n",
      " 'switch': 'function'}\n"
     ]
    }
   ],
   "source": [
    "# Explored down below\n",
    "pprint(classAttrs(s.state))"
   ]
  },
  {
   "cell_type": "code",
   "execution_count": 45,
   "metadata": {
    "scrolled": true
   },
   "outputs": [
    {
     "name": "stdout",
     "output_type": "stream",
     "text": [
      "{'_gen_types': ['biomass',\n",
      "                'coal',\n",
      "                'dfo',\n",
      "                'geothermal',\n",
      "                'ng',\n",
      "                'nuclear',\n",
      "                'hydro',\n",
      "                'solar',\n",
      "                'wind',\n",
      "                'other'],\n",
      " '_grid': <powersimdata.input.grid.Grid object at 0x130bda7d0>,\n",
      " '_input': <powersimdata.input.profiles.InputData object at 0x130af0e10>,\n",
      " '_load_ct': 'function',\n",
      " '_load_grid': 'function',\n",
      " '_original_grid': <powersimdata.input.grid.Grid object at 0x1307fb710>,\n",
      " '_thermal_gen_types': ['coal', 'dfo', 'geothermal', 'ng', 'nuclear'],\n",
      " 'ct': {'coal': {'zone_id': {201: 1.0001370050691876,\n",
      "                             202: 0.9996885705387729,\n",
      "                             204: 0.1040513980874362,\n",
      "                             205: 0.1040513980874362,\n",
      "                             206: 0.1040513980874362,\n",
      "                             207: 0.1040513980874362,\n",
      "                             208: 1.000181192244972,\n",
      "                             209: 0.8472414794233605,\n",
      "                             210: 0.9324586690648168,\n",
      "                             211: 0.9879523163137571,\n",
      "                             212: 0.8442035684217445,\n",
      "                             213: 0.9961152329830317,\n",
      "                             215: 0.9100426231959919}},\n",
      "        'demand': {'zone_id': {201: 1.149474213,\n",
      "                               202: 1.149474213,\n",
      "                               203: 1.187071432,\n",
      "                               204: 1.187071432,\n",
      "                               205: 1.187071432,\n",
      "                               206: 1.187071432,\n",
      "                               207: 1.187071432,\n",
      "                               208: 1.149474213,\n",
      "                               209: 1.149474213,\n",
      "                               210: 1.149474213,\n",
      "                               211: 1.149474213,\n",
      "                               212: 1.149474213,\n",
      "                               213: 1.149474213,\n",
      "                               214: 1.149474213,\n",
      "                               215: 1.149474213,\n",
      "                               216: 1.149474213}},\n",
      "        'geothermal': {'zone_id': {203: 1.206395788581974,\n",
      "                                   205: 1.206395788581974,\n",
      "                                   207: 1.206395788581974,\n",
      "                                   208: 1.1650383992476878}},\n",
      "        'hydro': {'zone_id': {201: 1.1787243928406284,\n",
      "                              202: 1.1769454230061747,\n",
      "                              203: 1.2829015743000824,\n",
      "                              205: 1.2829015743000824,\n",
      "                              206: 1.2829015743000824,\n",
      "                              207: 1.2829015743000824,\n",
      "                              208: 1.178564577792009,\n",
      "                              209: 1.0082404099794096,\n",
      "                              210: 1.8811881610299654,\n",
      "                              211: 1.6388466956021575,\n",
      "                              212: 1.3414292351272818,\n",
      "                              213: 1.9242658428251658,\n",
      "                              214: 1.257201145659072,\n",
      "                              215: 1.2987586073243187}},\n",
      "        'ng': {'zone_id': {201: 1.2123497215214214,\n",
      "                           202: 1.3150257516027455,\n",
      "                           203: 1.175338444605729,\n",
      "                           204: 1.175338444605729,\n",
      "                           205: 1.175338444605729,\n",
      "                           206: 1.175338444605729,\n",
      "                           207: 1.175338444605729,\n",
      "                           208: 1.2661679765173754,\n",
      "                           209: 1.314784015822358,\n",
      "                           210: 1.349192373573246,\n",
      "                           211: 1.2802953360669904,\n",
      "                           212: 1.4785047033697971,\n",
      "                           213: 1.9325438127654786,\n",
      "                           214: 1.1727556159565111,\n",
      "                           215: 1.0811709913506318,\n",
      "                           216: 1.7825509300265723}},\n",
      "        'nuclear': {'zone_id': {201: 1.0, 206: 1.0, 209: 1.000095020904599}},\n",
      "        'solar': {'zone_id': {201: 0.001801152727675828,\n",
      "                              202: 0.310248914310131,\n",
      "                              203: 1.2142769746846678,\n",
      "                              204: 1.2142769746846678,\n",
      "                              205: 1.2142769746846678,\n",
      "                              206: 1.2142769746846678,\n",
      "                              207: 1.2142769746846678,\n",
      "                              208: 1.6443006360440846,\n",
      "                              209: 1.8135478597512336,\n",
      "                              210: 13.329355379543298,\n",
      "                              211: 2.9252668704145592,\n",
      "                              212: 5.362014681898991,\n",
      "                              214: 0.9343263194575918,\n",
      "                              216: 1.1428571787755113}},\n",
      "        'wind': {'zone_id': {201: 1.1664221697523938,\n",
      "                             202: 1.1672256785044652,\n",
      "                             203: 1.1998807294747418,\n",
      "                             204: 1.1998807294747418,\n",
      "                             206: 1.1998807294747418,\n",
      "                             207: 1.1998807294747418,\n",
      "                             208: 1.1666666666666667,\n",
      "                             209: 1.4159292015111002,\n",
      "                             210: 1.0802732431253887,\n",
      "                             211: 3.2792720778297326,\n",
      "                             212: 1.4529342217871302,\n",
      "                             213: 1.8899891705348055,\n",
      "                             214: 1.1587006061309737,\n",
      "                             215: 1.7975070983748678}}},\n",
      " 'get_demand': 'function',\n",
      " 'get_grid': 'function',\n",
      " 'get_hydro': 'function',\n",
      " 'get_power_output': 'function',\n",
      " 'get_solar': 'function',\n",
      " 'get_wind': 'function',\n",
      " 'interconnect': ['Western'],\n",
      " 'scenario_id': '195'}\n"
     ]
    }
   ],
   "source": [
    "pprint(classAttrs(s.state.scaler))"
   ]
  },
  {
   "cell_type": "code",
   "execution_count": 76,
   "metadata": {
    "scrolled": true
   },
   "outputs": [
    {
     "name": "stdout",
     "output_type": "stream",
     "text": [
      "--> Loading CONGL\n",
      "--> Loading CONGU\n"
     ]
    },
    {
     "name": "stderr",
     "output_type": "stream",
     "text": [
      "100%|##########| 2.66M/2.66M [00:00<00:00, 33.2Mb/s]"
     ]
    },
    {
     "name": "stdout",
     "output_type": "stream",
     "text": [
      "--> Loading demand\n",
      "195_demand.csv not found in /Users/mondreicka/ScenarioData/ on local machine\n",
      "Transferring 195_demand.csv from server\n",
      "Multiply demand in Washington (#201) by 1.15\n"
     ]
    },
    {
     "name": "stderr",
     "output_type": "stream",
     "text": [
      "\n",
      "  0%|          | 3.05M/703M [00:00<00:23, 30.3Mb/s]"
     ]
    },
    {
     "name": "stdout",
     "output_type": "stream",
     "text": [
      "Multiply demand in Oregon (#202) by 1.15\n",
      "Multiply demand in Northern California (#203) by 1.19\n",
      "Multiply demand in Bay Area (#204) by 1.19\n",
      "Multiply demand in Central California (#205) by 1.19\n",
      "Multiply demand in Southwest California (#206) by 1.19\n",
      "Multiply demand in Southeast California (#207) by 1.19\n",
      "Multiply demand in Nevada (#208) by 1.15\n",
      "Multiply demand in Arizona (#209) by 1.15\n",
      "Multiply demand in Utah (#210) by 1.15\n",
      "Multiply demand in New Mexico Western (#211) by 1.15\n",
      "Multiply demand in Colorado (#212) by 1.15\n",
      "Multiply demand in Wyoming (#213) by 1.15\n",
      "Multiply demand in Idaho (#214) by 1.15\n",
      "Multiply demand in Montana Western (#215) by 1.15\n",
      "Multiply demand in El Paso (#216) by 1.15\n",
      "--> Loading LMP\n",
      "195_LMP.pkl not found in /Users/mondreicka/ScenarioData/ on local machine\n",
      "Transferring 195_LMP.pkl from server\n"
     ]
    },
    {
     "name": "stderr",
     "output_type": "stream",
     "text": [
      "100%|##########| 703M/703M [00:10<00:00, 69.7Mb/s] \n",
      "  0%|          | 2.75M/893M [00:00<00:32, 27.5Mb/s]"
     ]
    },
    {
     "name": "stdout",
     "output_type": "stream",
     "text": [
      "--> Loading PF\n",
      "195_PF.pkl not found in /Users/mondreicka/ScenarioData/ on local machine\n",
      "Transferring 195_PF.pkl from server\n"
     ]
    },
    {
     "name": "stderr",
     "output_type": "stream",
     "text": [
      "100%|##########| 893M/893M [00:12<00:00, 70.5Mb/s] \n",
      "  2%|1         | 3.05M/178M [00:00<00:05, 30.5Mb/s]"
     ]
    },
    {
     "name": "stdout",
     "output_type": "stream",
     "text": [
      "--> Loading PG\n",
      "195_PG.pkl not found in /Users/mondreicka/ScenarioData/ on local machine\n",
      "Transferring 195_PG.pkl from server\n"
     ]
    },
    {
     "name": "stderr",
     "output_type": "stream",
     "text": [
      "100%|##########| 178M/178M [00:02<00:00, 67.6Mb/s] \n"
     ]
    }
   ],
   "source": [
    "ct = s.state.get_ct()         # change table, dict {resource: {loadzone: pctChange, ...}, ...}\n",
    "\n",
    "# Branch congestion\n",
    "# congu and congl describe congestion for either direction the power is flowing, as they have AC current\n",
    "# A branch may be uncongested or congested in one direction\n",
    "# A branch is never congested in both directions at the same time\n",
    "\n",
    "congl = s.state.get_congl()   # congestion lower limit, time x branch in $/MWh\n",
    "congu = s.state.get_congu()   # congestion upper limit, time x branch in $/MWh\n",
    "\n",
    "demand = s.state.get_demand() # demand, time x loadzone in MWh\n",
    "lmp = s.state.get_lmp()       # locational marginal price, time x busId in $/MWh\n",
    "pf = s.state.get_pf()         # power flow, time x branch in MWh\n",
    "pg = s.state.get_pg()         # power generated, time x plant in MWh"
   ]
  },
  {
   "cell_type": "code",
   "execution_count": 103,
   "metadata": {
    "scrolled": true
   },
   "outputs": [
    {
     "name": "stdout",
     "output_type": "stream",
     "text": [
      "{'coal': {'zone_id': {201: 1.0001370050691876,\n",
      "                      202: 0.9996885705387729,\n",
      "                      204: 0.1040513980874362,\n",
      "                      205: 0.1040513980874362,\n",
      "                      206: 0.1040513980874362,\n",
      "                      207: 0.1040513980874362,\n",
      "                      208: 1.000181192244972,\n",
      "                      209: 0.8472414794233605,\n",
      "                      210: 0.9324586690648168,\n",
      "                      211: 0.9879523163137571,\n",
      "                      212: 0.8442035684217445,\n",
      "                      213: 0.9961152329830317,\n",
      "                      215: 0.9100426231959919}},\n",
      " 'demand': {'zone_id': {201: 1.149474213,\n",
      "                        202: 1.149474213,\n",
      "                        203: 1.187071432,\n",
      "                        204: 1.187071432,\n",
      "                        205: 1.187071432,\n",
      "                        206: 1.187071432,\n",
      "                        207: 1.187071432,\n",
      "                        208: 1.149474213,\n",
      "                        209: 1.149474213,\n",
      "                        210: 1.149474213,\n",
      "                        211: 1.149474213,\n",
      "                        212: 1.149474213,\n",
      "                        213: 1.149474213,\n",
      "                        214: 1.149474213,\n",
      "                        215: 1.149474213,\n",
      "                        216: 1.149474213}},\n",
      " 'geothermal': {'zone_id': {203: 1.206395788581974,\n",
      "                            205: 1.206395788581974,\n",
      "                            207: 1.206395788581974,\n",
      "                            208: 1.1650383992476878}},\n",
      " 'hydro': {'zone_id': {201: 1.1787243928406284,\n",
      "                       202: 1.1769454230061747,\n",
      "                       203: 1.2829015743000824,\n",
      "                       205: 1.2829015743000824,\n",
      "                       206: 1.2829015743000824,\n",
      "                       207: 1.2829015743000824,\n",
      "                       208: 1.178564577792009,\n",
      "                       209: 1.0082404099794096,\n",
      "                       210: 1.8811881610299654,\n",
      "                       211: 1.6388466956021575,\n",
      "                       212: 1.3414292351272818,\n",
      "                       213: 1.9242658428251658,\n",
      "                       214: 1.257201145659072,\n",
      "                       215: 1.2987586073243187}},\n",
      " 'ng': {'zone_id': {201: 1.2123497215214214,\n",
      "                    202: 1.3150257516027455,\n",
      "                    203: 1.175338444605729,\n",
      "                    204: 1.175338444605729,\n",
      "                    205: 1.175338444605729,\n",
      "                    206: 1.175338444605729,\n",
      "                    207: 1.175338444605729,\n",
      "                    208: 1.2661679765173754,\n",
      "                    209: 1.314784015822358,\n",
      "                    210: 1.349192373573246,\n",
      "                    211: 1.2802953360669904,\n",
      "                    212: 1.4785047033697971,\n",
      "                    213: 1.9325438127654786,\n",
      "                    214: 1.1727556159565111,\n",
      "                    215: 1.0811709913506318,\n",
      "                    216: 1.7825509300265723}},\n",
      " 'nuclear': {'zone_id': {201: 1.0, 206: 1.0, 209: 1.000095020904599}},\n",
      " 'solar': {'zone_id': {201: 0.001801152727675828,\n",
      "                       202: 0.310248914310131,\n",
      "                       203: 1.2142769746846678,\n",
      "                       204: 1.2142769746846678,\n",
      "                       205: 1.2142769746846678,\n",
      "                       206: 1.2142769746846678,\n",
      "                       207: 1.2142769746846678,\n",
      "                       208: 1.6443006360440846,\n",
      "                       209: 1.8135478597512336,\n",
      "                       210: 13.329355379543298,\n",
      "                       211: 2.9252668704145592,\n",
      "                       212: 5.362014681898991,\n",
      "                       214: 0.9343263194575918,\n",
      "                       216: 1.1428571787755113}},\n",
      " 'wind': {'zone_id': {201: 1.1664221697523938,\n",
      "                      202: 1.1672256785044652,\n",
      "                      203: 1.1998807294747418,\n",
      "                      204: 1.1998807294747418,\n",
      "                      206: 1.1998807294747418,\n",
      "                      207: 1.1998807294747418,\n",
      "                      208: 1.1666666666666667,\n",
      "                      209: 1.4159292015111002,\n",
      "                      210: 1.0802732431253887,\n",
      "                      211: 3.2792720778297326,\n",
      "                      212: 1.4529342217871302,\n",
      "                      213: 1.8899891705348055,\n",
      "                      214: 1.1587006061309737,\n",
      "                      215: 1.7975070983748678}}}\n"
     ]
    }
   ],
   "source": [
    "pprint(ct)"
   ]
  },
  {
   "cell_type": "code",
   "execution_count": 88,
   "metadata": {},
   "outputs": [
    {
     "name": "stderr",
     "output_type": "stream",
     "text": [
      "  3%|2         | 2.98M/116M [00:00<00:03, 29.7Mb/s]"
     ]
    },
    {
     "name": "stdout",
     "output_type": "stream",
     "text": [
      "--> Loading hydro\n",
      "195_hydro.csv not found in /Users/mondreicka/ScenarioData/ on local machine\n",
      "Transferring 195_hydro.csv from server\n"
     ]
    },
    {
     "name": "stderr",
     "output_type": "stream",
     "text": [
      "100%|##########| 116M/116M [00:02<00:00, 53.5Mb/s] \n",
      "  7%|7         | 2.65M/37.4M [00:00<00:01, 26.4Mb/s]"
     ]
    },
    {
     "name": "stdout",
     "output_type": "stream",
     "text": [
      "--> Loading solar\n",
      "195_solar.csv not found in /Users/mondreicka/ScenarioData/ on local machine\n",
      "Transferring 195_solar.csv from server\n"
     ]
    },
    {
     "name": "stderr",
     "output_type": "stream",
     "text": [
      "100%|##########| 37.4M/37.4M [00:00<00:00, 63.7Mb/s]\n",
      "  8%|7         | 2.79M/36.3M [00:00<00:01, 27.7Mb/s]"
     ]
    },
    {
     "name": "stdout",
     "output_type": "stream",
     "text": [
      "--> Loading wind\n",
      "195_wind.csv not found in /Users/mondreicka/ScenarioData/ on local machine\n",
      "Transferring 195_wind.csv from server\n"
     ]
    },
    {
     "name": "stderr",
     "output_type": "stream",
     "text": [
      "100%|##########| 36.3M/36.3M [00:00<00:00, 59.3Mb/s]\n"
     ]
    }
   ],
   "source": [
    "# These are our renewable resource profiles\n",
    "# They use weather predictions to predict the amount of energy that would be available at any given time\n",
    "\n",
    "# Because renewables are unpredictable, the energy available is often greater than the energy used\n",
    "# Hydro is an exception because it's generally very stable day-to-day\n",
    "\n",
    "# The waste of renewable energy is called \"curtailment\"\n",
    "# Curtailment = energy_available - power_generated\n",
    "\n",
    "hydro = s.state.get_hydro() # hydro profile, time x plant in MWh\n",
    "solar = s.state.get_solar() # solar profile, time x plant in MWh\n",
    "wind = s.state.get_wind()   # wind profile, time x plant in MWh"
   ]
  },
  {
   "cell_type": "code",
   "execution_count": 97,
   "metadata": {
    "scrolled": true
   },
   "outputs": [
    {
     "name": "stdout",
     "output_type": "stream",
     "text": [
      "                         10390      10391      10392      10393      10394  \\\n",
      "UTC                                                                          \n",
      "2016-01-01 00:00:00  73.988410  73.986860  73.986860  73.986860  73.986860   \n",
      "2016-01-01 01:00:00  82.919863  82.918125  82.918125  82.918125  82.918125   \n",
      "2016-01-01 02:00:00  92.355614  92.353678  92.353678  92.353678  92.353678   \n",
      "2016-01-01 03:00:00  94.203577  94.201603  94.201603  94.201603  94.201603   \n",
      "2016-01-01 04:00:00  93.023658  93.021708  93.021708  93.021708  93.021708   \n",
      "...                        ...        ...        ...        ...        ...   \n",
      "2016-12-31 19:00:00  97.639581  97.637535  97.637535  97.637535  97.637535   \n",
      "2016-12-31 20:00:00  95.712669  95.710663  95.710663  95.710663  95.710663   \n",
      "2016-12-31 21:00:00  90.360202  90.358309  90.358309  90.358309  90.358309   \n",
      "2016-12-31 22:00:00  86.522879  86.521065  86.521065  86.521065  86.521065   \n",
      "2016-12-31 23:00:00  89.175837  89.173968  89.173968  89.173968  89.173968   \n",
      "\n",
      "                         10395     10396      10398      10399       10402  \\\n",
      "UTC                                                                          \n",
      "2016-01-01 00:00:00  73.986860  5.992657  16.259147  16.259147  100.620888   \n",
      "2016-01-01 01:00:00  82.918125  6.716056  18.221857  18.221857  112.767259   \n",
      "2016-01-01 02:00:00  92.353678  7.480300  20.295388  20.295388  125.599453   \n",
      "2016-01-01 03:00:00  94.201603  7.629975  20.701483  20.701483  128.112600   \n",
      "2016-01-01 04:00:00  93.021708  7.534408  20.442192  20.442192  126.507962   \n",
      "...                        ...       ...        ...        ...         ...   \n",
      "2016-12-31 19:00:00  97.637535  7.908272  21.456553  21.456553  132.785409   \n",
      "2016-12-31 20:00:00  95.710663  7.752203  21.033109  21.033109  130.164896   \n",
      "2016-12-31 21:00:00  90.358309  7.318682  19.856891  19.856891  122.885784   \n",
      "2016-12-31 22:00:00  86.521065  7.007880  19.013629  19.013629  117.667197   \n",
      "2016-12-31 23:00:00  89.173968  7.222755  19.596623  19.596623  121.275100   \n",
      "\n",
      "                     ...      12850     12855     12856     12857     12858  \\\n",
      "UTC                  ...                                                      \n",
      "2016-01-01 00:00:00  ...  41.524798  3.275810  3.275810  3.275810  3.275810   \n",
      "2016-01-01 01:00:00  ...  46.537431  3.671247  3.671247  3.671247  3.671247   \n",
      "2016-01-01 02:00:00  ...  51.833094  4.089012  4.089012  4.089012  4.089012   \n",
      "2016-01-01 03:00:00  ...  52.870234  4.170830  4.170830  4.170830  4.170830   \n",
      "2016-01-01 04:00:00  ...  52.208023  4.118589  4.118589  4.118589  4.118589   \n",
      "...                  ...        ...       ...       ...       ...       ...   \n",
      "2016-12-31 19:00:00  ...  90.082425  7.106427  7.106427  7.106427  7.106427   \n",
      "2016-12-31 20:00:00  ...  88.304652  6.966182  6.966182  6.966182  6.966182   \n",
      "2016-12-31 21:00:00  ...  83.366459  6.576617  6.576617  6.576617  6.576617   \n",
      "2016-12-31 22:00:00  ...  79.826138  6.297328  6.297328  6.297328  6.297328   \n",
      "2016-12-31 23:00:00  ...  82.273761  6.490417  6.490417  6.490417  6.490417   \n",
      "\n",
      "                        12859     12860     12861      12862      12863  \n",
      "UTC                                                                      \n",
      "2016-01-01 00:00:00  3.275810  3.275810  2.924831  10.529391  10.529391  \n",
      "2016-01-01 01:00:00  3.671247  3.671247  3.277900  11.800438  11.800438  \n",
      "2016-01-01 02:00:00  4.089012  4.089012  3.650904  13.143253  13.143253  \n",
      "2016-01-01 03:00:00  4.170830  4.170830  3.723955  13.406239  13.406239  \n",
      "2016-01-01 04:00:00  4.118589  4.118589  3.677312  13.238323  13.238323  \n",
      "...                       ...       ...       ...        ...        ...  \n",
      "2016-12-31 19:00:00  7.106427  7.106427  6.345024  22.842088  22.842088  \n",
      "2016-12-31 20:00:00  6.966182  6.966182  6.219806  22.391300  22.391300  \n",
      "2016-12-31 21:00:00  6.576617  6.576617  5.871980  21.139129  21.139129  \n",
      "2016-12-31 22:00:00  6.297328  6.297328  5.622615  20.241414  20.241414  \n",
      "2016-12-31 23:00:00  6.490417  6.490417  5.795015  20.862055  20.862055  \n",
      "\n",
      "[8784 rows x 715 columns]\n"
     ]
    }
   ],
   "source": [
    "print(hydro)"
   ]
  }
 ],
 "metadata": {
  "kernelspec": {
   "display_name": "Python 3",
   "language": "python",
   "name": "python3"
  },
  "language_info": {
   "codemirror_mode": {
    "name": "ipython",
    "version": 3
   },
   "file_extension": ".py",
   "mimetype": "text/x-python",
   "name": "python",
   "nbconvert_exporter": "python",
   "pygments_lexer": "ipython3",
   "version": "3.7.4"
  },
  "varInspector": {
   "cols": {
    "lenName": 16,
    "lenType": 16,
    "lenVar": 40
   },
   "kernels_config": {
    "python": {
     "delete_cmd_postfix": "",
     "delete_cmd_prefix": "del ",
     "library": "var_list.py",
     "varRefreshCmd": "print(var_dic_list())"
    },
    "r": {
     "delete_cmd_postfix": ") ",
     "delete_cmd_prefix": "rm(",
     "library": "var_list.r",
     "varRefreshCmd": "cat(var_dic_list()) "
    }
   },
   "types_to_exclude": [
    "module",
    "function",
    "builtin_function_or_method",
    "instance",
    "_Feature"
   ],
   "window_display": false
  }
 },
 "nbformat": 4,
 "nbformat_minor": 2
}
